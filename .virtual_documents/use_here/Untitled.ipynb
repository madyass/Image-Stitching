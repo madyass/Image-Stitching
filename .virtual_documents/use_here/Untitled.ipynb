import os
import sys
sys.path.append(os.path.abspath(os.path.join(os.getcwd(), '..')))


import numpy as np
import matplotlib.pyplot as plt
from mpl_toolkits.mplot3d import Axes3D
import json
import cv2
from functions.functions import  find_correspondences , align_and_merge_images  , umeyama_alignment


img1 = cv2.imread('images/test_1_1.jpeg')
img2 = cv2.imread('images/test_1_2.jpeg')



with open("correspondences.json" , 'r') as f:
    data = json.load(f)


src = np.array([item["img2_xy"] for item in data])  # transformed image
dst = np.array([item["img1_xy"] for item in data])  # original image

print("Source points:\n", src)
print("Destination points:\n", dst)


plt.figure(figsize=(12, 6))
plt.subplot(1, 2, 1)
plt.imshow(cv2.cvtColor(img1, cv2.COLOR_BGR2RGB))
plt.title("img1")

plt.subplot(1, 2, 2)
plt.imshow(cv2.cvtColor(img2, cv2.COLOR_BGR2RGB))
plt.title("img2")
plt.show()


R , t = umeyama_alignment(src , dst)
print("Rotation Matrix :\n" , R)
print("Transtion Matrix :\n" , t)


result = align_and_merge_images(img1, img2, src, dst)

plt.figure(figsize=(12, 6))
plt.imshow(cv2.cvtColor(result, cv2.COLOR_BGR2RGB))



