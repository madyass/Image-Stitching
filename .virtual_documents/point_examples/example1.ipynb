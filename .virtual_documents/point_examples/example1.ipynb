import os
import sys
sys.path.append(os.path.abspath(os.path.join(os.getcwd(), '..')))


import numpy as np
import matplotlib.pyplot as plt
from mpl_toolkits.mplot3d import Axes3D
import json
import cv2
from functions.functions import umeyama_alignment , align_and_merge_images





mat1 = np.loadtxt("dataset/bottle/mat1.txt")
mat2 = np.loadtxt("dataset/bottle/mat2.txt")
correspondences = np.loadtxt("dataset/bottle/correspondences.txt").astype(int)


fig = plt.figure(figsize=(10, 8))
ax = fig.add_subplot(111, projection='3d')

ax.scatter(mat1[:, 0], mat1[:, 1],mat1[:, 2], color='red', label='mat1', s=5)

# mat2
ax.scatter(mat2[:, 0], mat2[:, 1], mat2[:, 2], color='blue', label='mat2', s=5)

ax.set_xlabel('X')
ax.set_ylabel('Y')
ax.set_zlabel('Z')
ax.set_title('3D Points (mat1 and mat2)')
ax.legend()
plt.tight_layout()
plt.show()


matched_src = mat2[correspondences[:, 1]]  
matched_dst = mat1[correspondences[:, 0]]  


R, t = umeyama_alignment(matched_src, matched_dst)

mat2_aligned = ((R @ mat2.T)).T + t


print("Rotation Matrix:\n" , R)
print("Transition Matrix:\n" , t)


fig = plt.figure(figsize=(12, 9))
ax = fig.add_subplot(111, projection='3d')

ax.scatter(mat1[:, 0], mat1[:, 1], mat1[:, 2], c='red', label='mat1', s=5)
ax.scatter(mat2[:, 0], mat2[:, 1], mat2[:, 2], c='blue', label='mat2', s=5, alpha=0.5)
ax.scatter(mat2_aligned[:, 0], mat2_aligned[:, 1], mat2_aligned[:, 2], c='green', label='rotated', s=5)

ax.set_xlabel('X')
ax.set_ylabel('Y')
ax.set_zlabel('Z')
ax.set_title('Umeyama')
ax.legend()
plt.tight_layout()
plt.show();





mat1 = np.loadtxt("dataset/chair/mat1.txt")
mat2 = np.loadtxt("dataset/chair/mat2.txt")
correspondences = np.loadtxt("dataset/chair/correspondences.txt").astype(int)


fig = plt.figure(figsize=(10, 8))
ax = fig.add_subplot(111, projection='3d')

ax.scatter(mat1[:, 0], mat1[:, 1], mat1[:, 2], color='red', label='mat1', s=5)

# mat2
ax.scatter(mat2[:, 0], mat2[:, 1], mat2[:, 2], color='blue', label='mat2', s=5)

ax.set_xlabel('X')
ax.set_ylabel('Y')
ax.set_zlabel('Z')
ax.set_title('3D Points (mat1 and mat2)')
ax.legend()
plt.tight_layout()
plt.show()


matched_src = mat2[correspondences[:, 1]]  
matched_dst = mat1[correspondences[:, 0]]  


R, t = umeyama_alignment(matched_src, matched_dst)

mat2_aligned = ((R @ mat2.T)).T + t


fig = plt.figure(figsize=(12, 9))
ax = fig.add_subplot(111, projection='3d')

ax.scatter(mat1[:, 0], mat1[:, 1], mat1[:, 2], c='red', label='mat1', s=5)
ax.scatter(mat2[:, 0], mat2[:, 1], mat2[:, 2], c='blue', label='mat2', s=5, alpha=0.5)
ax.scatter(mat2_aligned[:, 0], mat2_aligned[:, 1], mat2_aligned[:, 2], c='green', label='rotated', s=5)

ax.set_xlabel('X')
ax.set_ylabel('Y')
ax.set_zlabel('Z')
ax.set_title('Umeyama')
ax.legend()
plt.tight_layout()
plt.show();





mat1 = np.loadtxt("dataset/cup/mat1.txt")
mat2 = np.loadtxt("dataset/cup/mat2.txt")
correspondences = np.loadtxt("dataset/cup/correspondences.txt").astype(int)


fig = plt.figure(figsize=(10, 8))
ax = fig.add_subplot(111, projection='3d')

ax.scatter(mat1[:, 0], mat1[:, 1], mat1[:, 2], color='red', label='mat1', s=5)

ax.scatter(mat2[:, 0], mat2[:, 1], mat2[:, 2], color='blue', label='mat2', s=5)

ax.set_xlabel('X')
ax.set_ylabel('Y')
ax.set_zlabel('Z')
ax.set_title('3D Points (mat1 and mat2)')
ax.legend()
plt.tight_layout()
plt.show()


matched_src = mat2[correspondences[:, 1]]  
matched_dst = mat1[correspondences[:, 0]]  


R, t = umeyama_alignment(matched_src, matched_dst)

mat2_aligned = ((R @ mat2.T)).T + t


fig = plt.figure(figsize=(12, 9))
ax = fig.add_subplot(111, projection='3d')

# Nokta bulutları
ax.scatter(mat1[:, 0], mat1[:, 1], mat1[:, 2], c='red', label='mat1', s=5)
ax.scatter(mat2[:, 0], mat2[:, 1], mat2[:, 2], c='blue', label='mat2', s=5, alpha=0.5)
ax.scatter(mat2_aligned[:, 0], mat2_aligned[:, 1], mat2_aligned[:, 2], c='green', label='rotated', s=5)

# Ekseni ayarla
ax.set_xlabel('X')
ax.set_ylabel('Y')
ax.set_zlabel('Z')
ax.set_title('Umeyama')
ax.legend()
plt.tight_layout()
plt.show();
